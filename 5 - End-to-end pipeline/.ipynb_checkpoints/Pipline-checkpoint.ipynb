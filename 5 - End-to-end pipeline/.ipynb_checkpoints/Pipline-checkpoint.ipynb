{
 "cells": [
  {
   "cell_type": "markdown",
   "metadata": {},
   "source": [
    "1. Explore and clean the data\n",
    "2. Split data into train/validation/test\n",
    "3. Fit an initial model and evaluate (fivefold cross-validation)\n",
    "4. Tune hyperparameters with fivefold cross-validation\n",
    "5. Select top few models and evaluate on validation set"
   ]
  }
 ],
 "metadata": {
  "kernelspec": {
   "display_name": "Python 3",
   "language": "python",
   "name": "python3"
  },
  "language_info": {
   "codemirror_mode": {
    "name": "ipython",
    "version": 3
   },
   "file_extension": ".py",
   "mimetype": "text/x-python",
   "name": "python",
   "nbconvert_exporter": "python",
   "pygments_lexer": "ipython3",
   "version": "3.7.1"
  }
 },
 "nbformat": 4,
 "nbformat_minor": 2
}
